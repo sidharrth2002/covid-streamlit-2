{
 "cells": [
  {
   "cell_type": "markdown",
   "metadata": {},
   "source": [
    "# An Exploration of Covid-19 in Malaysia\n",
    "\n",
    "The following datasets will be used:\n",
    "1. cases_malaysia.csv\n",
    "2. cases_state.csv\n",
    "3. clusters.csv\n",
    "4. deaths_malaysia.csv\n",
    "5. deaths_state.csv\n",
    "6. hospital.csv\n",
    "7. icu.csv\n",
    "8. pkrc.csv\n",
    "9. tests_malaysia.csv\n",
    "10. tests_state.csv"
   ]
  },
  {
   "cell_type": "markdown",
   "metadata": {},
   "source": []
  }
 ],
 "metadata": {
  "language_info": {
   "name": "python"
  },
  "orig_nbformat": 4
 },
 "nbformat": 4,
 "nbformat_minor": 2
}
